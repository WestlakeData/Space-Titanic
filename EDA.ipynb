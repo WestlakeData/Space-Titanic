{
 "cells": [
  {
   "cell_type": "markdown",
   "id": "d6b73340",
   "metadata": {},
   "source": [
    "# Spaceship Titanic\n",
    "## Chris Porter\n",
    "### Introduction\n",
    "Welcome to the year 2912. We've received a transmission from four lightyears away and things aren't looking good.\n",
    "\n",
    "The Spaceship Titanic was an interstellar passenger liner launched a month ago. With almost 13,000 passengers on board, the vessel set out on its maiden voyage transporting emigrants from our solar system to three newly habitable exoplanets orbiting nearby stars.\n",
    "\n",
    "While rounding Alpha Centauri en route to its first destination—the torrid 55 Cancri E—the unwary Spaceship Titanic collided with a spacetime anomaly hidden within a dust cloud. Sadly, it met a similar fate as its namesake from 1000 years before. Though the ship stayed intact, almost half of the passengers were transported to an alternate dimension!\n",
    "\n",
    "To help rescue crews and retrieve the lost passengers, you are challenged to predict which passengers were transported by the anomaly using records recovered from the spaceship’s damaged computer system."
   ]
  },
  {
   "cell_type": "markdown",
   "id": "baec499a",
   "metadata": {},
   "source": [
    "The following data information is provided:\n",
    "*PassengerId* - A unique Id for each passenger. Each Id takes the form gggg_pp where gggg indicates a group the passenger is travelling with and pp is their number within the group. People in a group are often family members, but not always.\n",
    "\n",
    "*HomePlanet* - The planet the passenger departed from, typically their planet of permanent residence.\n",
    "\n",
    "*CryoSleep* - Indicates whether the passenger elected to be put into suspended animation for the duration of the voyage. Passengers in cryosleep are confined to their cabins.\n",
    "\n",
    "*Cabin* - The cabin number where the passenger is staying. Takes the form deck/num/side, where side can be either P for Port or S for Starboard.\n",
    "\n",
    "*Destination* - The planet the passenger will be debarking to.\n",
    "\n",
    "*Age* - The age of the passenger.\n",
    "\n",
    "*VIP* - Whether the passenger has paid for special VIP service during the voyage.\n",
    "\n",
    "*RoomService, FoodCourt, ShoppingMall, Spa, VRDeck* - Amount the passenger has billed at each of the Spaceship Titanic's many luxury amenities.\n",
    "\n",
    "*Name* - The first and last names of the passenger.\n",
    "\n",
    "*Transported* - Target variable."
   ]
  },
  {
   "cell_type": "code",
   "execution_count": 1,
   "id": "504f0212",
   "metadata": {},
   "outputs": [],
   "source": [
    "import numpy as np\n",
    "import pandas as pd\n",
    "import matplotlib.pyplot as plt\n",
    "\n",
    "# Function to determine if string element is NaN\n",
    "def isNaN(string):\n",
    "    return string != string"
   ]
  },
  {
   "cell_type": "code",
   "execution_count": 2,
   "id": "d8ed94ab",
   "metadata": {},
   "outputs": [],
   "source": [
    "# Load Data\n",
    "data = pd.read_csv('./data/train.csv')"
   ]
  },
  {
   "cell_type": "markdown",
   "id": "9af50c4a",
   "metadata": {},
   "source": [
    "## EDA"
   ]
  },
  {
   "cell_type": "code",
   "execution_count": 3,
   "id": "25c7f328",
   "metadata": {},
   "outputs": [
    {
     "name": "stdout",
     "output_type": "stream",
     "text": [
      "  PassengerId HomePlanet CryoSleep  Cabin    Destination   Age    VIP  \\\n",
      "0     0001_01     Europa     False  B/0/P    TRAPPIST-1e  39.0  False   \n",
      "1     0002_01      Earth     False  F/0/S    TRAPPIST-1e  24.0  False   \n",
      "2     0003_01     Europa     False  A/0/S    TRAPPIST-1e  58.0   True   \n",
      "3     0003_02     Europa     False  A/0/S    TRAPPIST-1e  33.0  False   \n",
      "4     0004_01      Earth     False  F/1/S    TRAPPIST-1e  16.0  False   \n",
      "5     0005_01      Earth     False  F/0/P  PSO J318.5-22  44.0  False   \n",
      "6     0006_01      Earth     False  F/2/S    TRAPPIST-1e  26.0  False   \n",
      "7     0006_02      Earth      True  G/0/S    TRAPPIST-1e  28.0  False   \n",
      "8     0007_01      Earth     False  F/3/S    TRAPPIST-1e  35.0  False   \n",
      "9     0008_01     Europa      True  B/1/P    55 Cancri e  14.0  False   \n",
      "\n",
      "   RoomService  FoodCourt  ShoppingMall     Spa  VRDeck                Name  \\\n",
      "0          0.0        0.0           0.0     0.0     0.0     Maham Ofracculy   \n",
      "1        109.0        9.0          25.0   549.0    44.0        Juanna Vines   \n",
      "2         43.0     3576.0           0.0  6715.0    49.0       Altark Susent   \n",
      "3          0.0     1283.0         371.0  3329.0   193.0        Solam Susent   \n",
      "4        303.0       70.0         151.0   565.0     2.0   Willy Santantines   \n",
      "5          0.0      483.0           0.0   291.0     0.0   Sandie Hinetthews   \n",
      "6         42.0     1539.0           3.0     0.0     0.0  Billex Jacostaffey   \n",
      "7          0.0        0.0           0.0     0.0     NaN  Candra Jacostaffey   \n",
      "8          0.0      785.0          17.0   216.0     0.0       Andona Beston   \n",
      "9          0.0        0.0           0.0     0.0     0.0      Erraiam Flatic   \n",
      "\n",
      "   Transported  \n",
      "0        False  \n",
      "1         True  \n",
      "2        False  \n",
      "3        False  \n",
      "4         True  \n",
      "5         True  \n",
      "6         True  \n",
      "7         True  \n",
      "8         True  \n",
      "9         True  \n",
      "(8693, 14)\n",
      "     PassengerId HomePlanet CryoSleep     Cabin    Destination   Age    VIP  \\\n",
      "0        0001_01     Europa     False     B/0/P    TRAPPIST-1e  39.0  False   \n",
      "1        0002_01      Earth     False     F/0/S    TRAPPIST-1e  24.0  False   \n",
      "2        0003_01     Europa     False     A/0/S    TRAPPIST-1e  58.0   True   \n",
      "3        0003_02     Europa     False     A/0/S    TRAPPIST-1e  33.0  False   \n",
      "4        0004_01      Earth     False     F/1/S    TRAPPIST-1e  16.0  False   \n",
      "...          ...        ...       ...       ...            ...   ...    ...   \n",
      "8688     9276_01     Europa     False    A/98/P    55 Cancri e  41.0   True   \n",
      "8689     9278_01      Earth      True  G/1499/S  PSO J318.5-22  18.0  False   \n",
      "8690     9279_01      Earth     False  G/1500/S    TRAPPIST-1e  26.0  False   \n",
      "8691     9280_01     Europa     False   E/608/S    55 Cancri e  32.0  False   \n",
      "8692     9280_02     Europa     False   E/608/S    TRAPPIST-1e  44.0  False   \n",
      "\n",
      "      RoomService  FoodCourt  ShoppingMall     Spa  VRDeck               Name  \\\n",
      "0             0.0        0.0           0.0     0.0     0.0    Maham Ofracculy   \n",
      "1           109.0        9.0          25.0   549.0    44.0       Juanna Vines   \n",
      "2            43.0     3576.0           0.0  6715.0    49.0      Altark Susent   \n",
      "3             0.0     1283.0         371.0  3329.0   193.0       Solam Susent   \n",
      "4           303.0       70.0         151.0   565.0     2.0  Willy Santantines   \n",
      "...           ...        ...           ...     ...     ...                ...   \n",
      "8688          0.0     6819.0           0.0  1643.0    74.0  Gravior Noxnuther   \n",
      "8689          0.0        0.0           0.0     0.0     0.0    Kurta Mondalley   \n",
      "8690          0.0        0.0        1872.0     1.0     0.0       Fayey Connon   \n",
      "8691          0.0     1049.0           0.0   353.0  3235.0   Celeon Hontichre   \n",
      "8692        126.0     4688.0           0.0     0.0    12.0   Propsh Hontichre   \n",
      "\n",
      "      Transported  \n",
      "0           False  \n",
      "1            True  \n",
      "2           False  \n",
      "3           False  \n",
      "4            True  \n",
      "...           ...  \n",
      "8688        False  \n",
      "8689        False  \n",
      "8690         True  \n",
      "8691        False  \n",
      "8692         True  \n",
      "\n",
      "[8693 rows x 14 columns]\n"
     ]
    }
   ],
   "source": [
    "# Display first 10 rows\n",
    "print(data.head(10))\n",
    "# Number of records\n",
    "print(data.shape)\n",
    "# Data Structure\n",
    "print(str(data))\n",
    "\n",
    "# Convert Transported to numeric boolean\n",
    "data['Transported'] = data['Transported'].astype(int)"
   ]
  },
  {
   "cell_type": "code",
   "execution_count": 4,
   "id": "87d47ddb",
   "metadata": {},
   "outputs": [
    {
     "name": "stdout",
     "output_type": "stream",
     "text": [
      "1    4378\n",
      "0    4315\n",
      "Name: Transported, dtype: int64\n",
      "                   Age  RoomService  FoodCourt  ShoppingMall       Spa  \\\n",
      "Age           1.000000     0.068723   0.130421      0.033133  0.123970   \n",
      "RoomService   0.068723     1.000000  -0.015889      0.054480  0.010080   \n",
      "FoodCourt     0.130421    -0.015889   1.000000     -0.014228  0.221891   \n",
      "ShoppingMall  0.033133     0.054480  -0.014228      1.000000  0.013879   \n",
      "Spa           0.123970     0.010080   0.221891      0.013879  1.000000   \n",
      "VRDeck        0.101007    -0.019581   0.227995     -0.007322  0.153821   \n",
      "Transported  -0.075026    -0.244611   0.046566      0.010141 -0.221131   \n",
      "\n",
      "                VRDeck  Transported  \n",
      "Age           0.101007    -0.075026  \n",
      "RoomService  -0.019581    -0.244611  \n",
      "FoodCourt     0.227995     0.046566  \n",
      "ShoppingMall -0.007322     0.010141  \n",
      "Spa           0.153821    -0.221131  \n",
      "VRDeck        1.000000    -0.207075  \n",
      "Transported  -0.207075     1.000000  \n",
      "PassengerId       0\n",
      "HomePlanet      201\n",
      "CryoSleep       217\n",
      "Cabin           199\n",
      "Destination     182\n",
      "Age             179\n",
      "VIP             203\n",
      "RoomService     181\n",
      "FoodCourt       183\n",
      "ShoppingMall    208\n",
      "Spa             183\n",
      "VRDeck          188\n",
      "Name            200\n",
      "Transported       0\n",
      "dtype: int64\n"
     ]
    }
   ],
   "source": [
    "# Examine Target Variable Distribution\n",
    "print(data['Transported'].value_counts())  \n",
    "# Target Variable is evenly distributed\n",
    "\n",
    "# Correlation\n",
    "print(data.corr(numeric_only=True))  \n",
    "# None of the numeric variables are strongly correlated with target variable before transformation\n",
    "\n",
    "# Check for missing values\n",
    "print(data.isnull().sum())  \n",
    "# Approximately 200 values missing in each of the columns"
   ]
  },
  {
   "cell_type": "markdown",
   "id": "8076a4d4",
   "metadata": {},
   "source": [
    "*PassengerId* might not be informative, but does contain information about whether the passenger is travelling with others or not."
   ]
  },
  {
   "cell_type": "code",
   "execution_count": 5,
   "id": "0485c648",
   "metadata": {},
   "outputs": [],
   "source": [
    "# Extract PassengerGroup from PassengerId\n",
    "data['PassengerGroup'] = data.PassengerId.str[:4]\n",
    "# Calculate PartySize\n",
    "partySize = data['PassengerGroup'].value_counts()\n",
    "data = pd.merge(data, partySize, left_on=data['PassengerGroup'], right_index=True, how='inner')\\\n",
    "                    .drop('key_0', axis=1)\\\n",
    "                    .rename(columns={'PassengerGroup_x':'PassengerGroup','PassengerGroup_y':'PartySize'})"
   ]
  },
  {
   "cell_type": "code",
   "execution_count": 6,
   "id": "404729c4",
   "metadata": {},
   "outputs": [
    {
     "name": "stdout",
     "output_type": "stream",
     "text": [
      "Earth     4602\n",
      "Europa    2131\n",
      "Mars      1759\n",
      "Name: HomePlanet, dtype: int64\n",
      "HomePlanet  Transported\n",
      "Earth       0              2651\n",
      "            1              1951\n",
      "Europa      0               727\n",
      "            1              1404\n",
      "Mars        0               839\n",
      "            1               920\n",
      "dtype: int64\n"
     ]
    }
   ],
   "source": [
    "# Examine HomePlanet\n",
    "print(data['HomePlanet'].value_counts())\n",
    "# 3 HomePlanets\n",
    "# Categorical Data\n",
    "\n",
    "print(data.groupby(['HomePlanet','Transported']).size())\n",
    "\n",
    "# Plot HomePlanet in relation to target variable\n",
    "# It is assumed that parties travelling together are from the same HomePlanet and have the same Destination\n",
    "for i in data.index:\n",
    "    if isNaN(data['HomePlanet'][i]):\n",
    "        if isNaN(data['Destination'][i]):\n",
    "            if data['PassengerGroup'][i] == data['PassengerGroup'][i-1]:\n",
    "                data.loc[i,'HomePlanet'] = data['HomePlanet'][i-1]\n",
    "                data.loc[i,'Destination'] = data['Destination'][i-1]\n",
    "            elif data['PassengerGroup'][i] == data['PassengerGroup'][i+1]:\n",
    "                data.loc[i,'HomePlanet'] = data['HomePlanet'][i+1]\n",
    "                data.loc[i,'Destination'] = data['Destination'][i+1] \n",
    "        else:\n",
    "            if data['PassengerGroup'][i] == data['PassengerGroup'][i-1]:\n",
    "                data.loc[i,'HomePlanet'] = data['HomePlanet'][i-1]\n",
    "            elif data['PassengerGroup'][i] == data['PassengerGroup'][i+1]:\n",
    "                data.loc[i,'HomePlanet'] = data['HomePlanet'][i+1]\n",
    "    elif isNaN(data['Destination'][i]):\n",
    "        if data['PassengerGroup'][i] == data['PassengerGroup'][i-1]:\n",
    "                data.loc[i,'Destination'] = data['Destination'][i-1]\n",
    "        elif data['PassengerGroup'][i] == data['PassengerGroup'][i+1]:\n",
    "                data.loc[i,'Destination'] = data['Destination'][i+1]\n",
    "\n",
    "# Replace remaining missing datapoints\n",
    "data['HomePlanet'] = data['HomePlanet'].fillna('unknown')\n",
    "data['Destination'] = data['Destination'].fillna('unknown')\n",
    "planets = data.HomePlanet.unique()\n",
    "\n",
    "# Being from Europa seems to influence target variable"
   ]
  },
  {
   "cell_type": "code",
   "execution_count": 7,
   "id": "fe76f8ca",
   "metadata": {},
   "outputs": [
    {
     "name": "stdout",
     "output_type": "stream",
     "text": [
      "False    5439\n",
      "True     3037\n",
      "Name: CryoSleep, dtype: int64\n",
      "99  missing values remain\n"
     ]
    }
   ],
   "source": [
    "# Examine Cryosleep\n",
    "print(data['CryoSleep'].value_counts())\n",
    "\n",
    "# Examine 217 missing values\n",
    "data[(data['CryoSleep'].isnull()) & ((data['FoodCourt'] > 0)\\\n",
    "                                     | (data['ShoppingMall'] > 0)\\\n",
    "                                     | (data['Spa'] > 0)\\\n",
    "                                     | (data['VRDeck'] > 0))].count()\n",
    "# 118 of the missing values can be imputed as False, because CryoSleep passengers woouldn't use the VIP services en route.\n",
    "data.loc[((data['CryoSleep'].isnull()) & ((data['FoodCourt'] > 0) | (data['ShoppingMall'] > 0) | (data['Spa'] > 0) | (data['VRDeck'] > 0))), 'CryoSleep'] = False\n",
    "print(data['CryoSleep'].isnull().sum(), ' missing values remain')  \n",
    "\n",
    "#Replace missing values with 'unknown'\n",
    "data['CryoSleep'] = ['unknown' if isNaN(x) else x for x in data.CryoSleep]"
   ]
  },
  {
   "cell_type": "code",
   "execution_count": 8,
   "id": "4e8fd166",
   "metadata": {},
   "outputs": [],
   "source": [
    "# Cabin variable can be split into deck, cabin, and PortStarboard categorical variables\n",
    "\n",
    "\n",
    "\n",
    "# Modify missing values to 'unknown'\n",
    "data['Cabin'] = ['unknown' if isNaN(x) else x for x in data['Cabin']]\n",
    "\n",
    "# Split the column 'Cabin' into Deck/Cabin/Side\n",
    "CabinDF=data['Cabin'].str.split(\"/\", n=-1, expand = True, regex=False)\n",
    "data['Deck'],data['Cabin'],data['PortStarboard'] = CabinDF[0],\\\n",
    "                                                    ['unknown' if x == None else x for x in CabinDF[1]],\\\n",
    "                                                    ['unknown' if x == None else x for x in CabinDF[2]]\n"
   ]
  },
  {
   "cell_type": "code",
   "execution_count": 9,
   "id": "0a5f0bb4",
   "metadata": {},
   "outputs": [
    {
     "data": {
      "image/png": "[encoded data removed]",
      "text/plain": [
       "<Figure size 640x480 with 1 Axes>"
      ]
     },
     "metadata": {},
     "output_type": "display_data"
    }
   ],
   "source": [
    "# Examine Age Distribution\n",
    "plt.hist(data['Age'])\n",
    "plt.show()\n",
    "\n",
    "# missing values to be imputed as mean value\n",
    "data['Age'] = [data['Age'].mean() if isNaN(x) else x for x in data.Age]"
   ]
  },
  {
   "cell_type": "code",
   "execution_count": 10,
   "id": "f5903168",
   "metadata": {},
   "outputs": [
    {
     "name": "stdout",
     "output_type": "stream",
     "text": [
      "False    8291\n",
      "True      199\n",
      "Name: VIP, dtype: int64\n"
     ]
    }
   ],
   "source": [
    "print(data['VIP'].value_counts())\n",
    "\n",
    "# missing values to be imputed as False\n",
    "data['VIP'] = [False if isNaN(x) else x for x in data.VIP]\n"
   ]
  },
  {
   "cell_type": "code",
   "execution_count": 11,
   "id": "17b9799f",
   "metadata": {},
   "outputs": [],
   "source": [
    "# missing  Name values to be replaced with unknown\n",
    "data['Name'] = ['unknown' if isNaN(x) else x for x in data.Name]\n",
    "# Name will not be used for prediction, but this allows for a cleaner dataFrame"
   ]
  },
  {
   "cell_type": "code",
   "execution_count": null,
   "id": "da865383",
   "metadata": {},
   "outputs": [],
   "source": []
  },
  {
   "cell_type": "markdown",
   "id": "917e2bef",
   "metadata": {},
   "source": [
    "The remaining missing variables are all continuous numerical variables.  They are the various onboard services rendered to passengers who are not in CryoSleep."
   ]
  },
  {
   "cell_type": "code",
   "execution_count": 12,
   "id": "05ae5b96",
   "metadata": {},
   "outputs": [
    {
     "data": {
      "image/png": "[encoded data removed]",
      "text/plain": [
       "<Figure size 640x480 with 1 Axes>"
      ]
     },
     "metadata": {},
     "output_type": "display_data"
    },
    {
     "name": "stdout",
     "output_type": "stream",
     "text": [
      "count     8512.000000\n",
      "mean       224.687617\n",
      "std        666.717663\n",
      "min          0.000000\n",
      "25%          0.000000\n",
      "50%          0.000000\n",
      "75%         47.000000\n",
      "max      14327.000000\n",
      "Name: RoomService, dtype: float64\n",
      "median =  0.0\n"
     ]
    }
   ],
   "source": [
    "# RoomService\n",
    "plt.hist(data['RoomService'][data['CryoSleep'] == False])\n",
    "plt.show()\n",
    "\n",
    "print(data.RoomService.describe())\n",
    "print('median = ',data.RoomService.median())"
   ]
  },
  {
   "cell_type": "code",
   "execution_count": 13,
   "id": "e88fcb51",
   "metadata": {},
   "outputs": [
    {
     "data": {
      "image/png": "[encoded data removed]",
      "text/plain": [
       "<Figure size 640x480 with 1 Axes>"
      ]
     },
     "metadata": {},
     "output_type": "display_data"
    },
    {
     "name": "stdout",
     "output_type": "stream",
     "text": [
      "count     8510.000000\n",
      "mean       458.077203\n",
      "std       1611.489240\n",
      "min          0.000000\n",
      "25%          0.000000\n",
      "50%          0.000000\n",
      "75%         76.000000\n",
      "max      29813.000000\n",
      "Name: FoodCourt, dtype: float64\n",
      "median =  0.0\n"
     ]
    }
   ],
   "source": [
    "# FoodCourt\n",
    "plt.hist(data['FoodCourt'][data['CryoSleep'] == False])\n",
    "plt.show()\n",
    "\n",
    "print(data.FoodCourt.describe())\n",
    "print('median = ',data.FoodCourt.median())"
   ]
  },
  {
   "cell_type": "code",
   "execution_count": 14,
   "id": "601f2bf1",
   "metadata": {},
   "outputs": [
    {
     "data": {
      "image/png": "[encoded data removed]",
      "text/plain": [
       "<Figure size 640x480 with 1 Axes>"
      ]
     },
     "metadata": {},
     "output_type": "display_data"
    },
    {
     "name": "stdout",
     "output_type": "stream",
     "text": [
      "count     8485.000000\n",
      "mean       173.729169\n",
      "std        604.696458\n",
      "min          0.000000\n",
      "25%          0.000000\n",
      "50%          0.000000\n",
      "75%         27.000000\n",
      "max      23492.000000\n",
      "Name: ShoppingMall, dtype: float64\n",
      "median =  0.0\n"
     ]
    }
   ],
   "source": [
    "# ShoppingMall\n",
    "plt.hist(data['ShoppingMall'][data['CryoSleep'] == False])\n",
    "plt.show()\n",
    "\n",
    "print(data.ShoppingMall.describe())\n",
    "print('median = ',data.ShoppingMall.median())"
   ]
  },
  {
   "cell_type": "code",
   "execution_count": 15,
   "id": "e8bd0c51",
   "metadata": {},
   "outputs": [
    {
     "data": {
      "image/png": "[encoded data removed]",
      "text/plain": [
       "<Figure size 640x480 with 1 Axes>"
      ]
     },
     "metadata": {},
     "output_type": "display_data"
    },
    {
     "name": "stdout",
     "output_type": "stream",
     "text": [
      "count     8510.000000\n",
      "mean       311.138778\n",
      "std       1136.705535\n",
      "min          0.000000\n",
      "25%          0.000000\n",
      "50%          0.000000\n",
      "75%         59.000000\n",
      "max      22408.000000\n",
      "Name: Spa, dtype: float64\n",
      "median =  0.0\n"
     ]
    }
   ],
   "source": [
    "# Spa\n",
    "plt.hist(data['Spa'][data['CryoSleep'] == False])\n",
    "plt.show()\n",
    "\n",
    "print(data.Spa.describe())\n",
    "print('median = ',data.Spa.median())"
   ]
  },
  {
   "cell_type": "code",
   "execution_count": 16,
   "id": "3f2b6c86",
   "metadata": {},
   "outputs": [
    {
     "data": {
      "image/png": "[encoded data removed]",
      "text/plain": [
       "<Figure size 640x480 with 1 Axes>"
      ]
     },
     "metadata": {},
     "output_type": "display_data"
    },
    {
     "name": "stdout",
     "output_type": "stream",
     "text": [
      "count     8505.000000\n",
      "mean       304.854791\n",
      "std       1145.717189\n",
      "min          0.000000\n",
      "25%          0.000000\n",
      "50%          0.000000\n",
      "75%         46.000000\n",
      "max      24133.000000\n",
      "Name: VRDeck, dtype: float64\n",
      "median =  0.0\n"
     ]
    }
   ],
   "source": [
    "# VRDeck\n",
    "plt.hist(data['VRDeck'][data['CryoSleep'] == False])\n",
    "plt.show()\n",
    "\n",
    "print(data.VRDeck.describe())\n",
    "print('median = ',data.VRDeck.median())"
   ]
  },
  {
   "cell_type": "markdown",
   "id": "d8905193",
   "metadata": {},
   "source": [
    "Even excluding those in Cryosleep the number of passengers using the VIP services is very low, as are the amounts spent. Therefore, all missing values will be imputed as 0, regardless of CryoSleep status."
   ]
  },
  {
   "cell_type": "code",
   "execution_count": 17,
   "id": "1bfd159d",
   "metadata": {},
   "outputs": [],
   "source": [
    "data[['RoomService','FoodCourt','ShoppingMall','Spa','VRDeck']] = data[['RoomService','FoodCourt','ShoppingMall','Spa','VRDeck']].fillna(0)"
   ]
  },
  {
   "cell_type": "code",
   "execution_count": 18,
   "id": "2027abab",
   "metadata": {},
   "outputs": [
    {
     "name": "stdout",
     "output_type": "stream",
     "text": [
      "PassengerId       0\n",
      "HomePlanet        0\n",
      "CryoSleep         0\n",
      "Cabin             0\n",
      "Destination       0\n",
      "Age               0\n",
      "VIP               0\n",
      "RoomService       0\n",
      "FoodCourt         0\n",
      "ShoppingMall      0\n",
      "Spa               0\n",
      "VRDeck            0\n",
      "Name              0\n",
      "Transported       0\n",
      "PassengerGroup    0\n",
      "PartySize         0\n",
      "Deck              0\n",
      "PortStarboard     0\n",
      "dtype: int64\n"
     ]
    }
   ],
   "source": [
    "# Check for missing values\n",
    "print(data.isnull().sum())"
   ]
  },
  {
   "cell_type": "code",
   "execution_count": 20,
   "id": "01ff5575",
   "metadata": {},
   "outputs": [],
   "source": [
    "data.to_csv('./data/clean_train.csv')"
   ]
  },
  {
   "cell_type": "code",
   "execution_count": null,
   "id": "407e5233",
   "metadata": {},
   "outputs": [],
   "source": []
  }
 ],
 "metadata": {
  "kernelspec": {
   "display_name": "Python 3 (ipykernel)",
   "language": "python",
   "name": "python3"
  },
  "language_info": {
   "codemirror_mode": {
    "name": "ipython",
    "version": 3
   },
   "file_extension": ".py",
   "mimetype": "text/x-python",
   "name": "python",
   "nbconvert_exporter": "python",
   "pygments_lexer": "ipython3",
   "version": "3.10.9"
  }
 },
 "nbformat": 4,
 "nbformat_minor": 5
}
