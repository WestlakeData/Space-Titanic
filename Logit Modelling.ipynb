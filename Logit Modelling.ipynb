{
 "cells": [
  {
   "cell_type": "markdown",
   "id": "8fc305e3",
   "metadata": {},
   "source": [
    "# Classification Modelling"
   ]
  },
  {
   "cell_type": "code",
   "execution_count": 57,
   "id": "d465d4cf",
   "metadata": {
    "tags": []
   },
   "outputs": [],
   "source": [
    "import numpy as np\n",
    "import pandas as pd\n",
    "from sklearn.model_selection import train_test_split\n",
    "from sklearn.linear_model import LogisticRegression\n",
    "from sklearn.metrics import classification_report, confusion_matrix, accuracy_score, roc_auc_score, roc_curve, f1_score, precision_score, recall_score, cohen_kappa_score\n",
    "import matplotlib.pyplot as plt\n",
    "from joblib import dump"
   ]
  },
  {
   "cell_type": "code",
   "execution_count": 58,
   "id": "4b9e20f3",
   "metadata": {
    "tags": []
   },
   "outputs": [
    {
     "data": {
      "text/html": [
       "<div>\n",
       "<style scoped>\n",
       "    .dataframe tbody tr th:only-of-type {\n",
       "        vertical-align: middle;\n",
       "    }\n",
       "\n",
       "    .dataframe tbody tr th {\n",
       "        vertical-align: top;\n",
       "    }\n",
       "\n",
       "    .dataframe thead th {\n",
       "        text-align: right;\n",
       "    }\n",
       "</style>\n",
       "<table border=\"1\" class=\"dataframe\">\n",
       "  <thead>\n",
       "    <tr style=\"text-align: right;\">\n",
       "      <th></th>\n",
       "      <th>PassengerId</th>\n",
       "      <th>HomePlanet</th>\n",
       "      <th>CryoSleep</th>\n",
       "      <th>Cabin</th>\n",
       "      <th>Destination</th>\n",
       "      <th>Age</th>\n",
       "      <th>VIP</th>\n",
       "      <th>RoomService</th>\n",
       "      <th>FoodCourt</th>\n",
       "      <th>ShoppingMall</th>\n",
       "      <th>Spa</th>\n",
       "      <th>VRDeck</th>\n",
       "      <th>Name</th>\n",
       "      <th>Transported</th>\n",
       "      <th>PassengerGroup</th>\n",
       "      <th>PartySize</th>\n",
       "      <th>Deck</th>\n",
       "      <th>PortStarboard</th>\n",
       "    </tr>\n",
       "  </thead>\n",
       "  <tbody>\n",
       "    <tr>\n",
       "      <th>0</th>\n",
       "      <td>0001_01</td>\n",
       "      <td>Europa</td>\n",
       "      <td>False</td>\n",
       "      <td>0</td>\n",
       "      <td>TRAPPIST-1e</td>\n",
       "      <td>39.0</td>\n",
       "      <td>False</td>\n",
       "      <td>0.0</td>\n",
       "      <td>0.0</td>\n",
       "      <td>0.0</td>\n",
       "      <td>0.0</td>\n",
       "      <td>0.0</td>\n",
       "      <td>Maham Ofracculy</td>\n",
       "      <td>False</td>\n",
       "      <td>1</td>\n",
       "      <td>1</td>\n",
       "      <td>B</td>\n",
       "      <td>P</td>\n",
       "    </tr>\n",
       "    <tr>\n",
       "      <th>1</th>\n",
       "      <td>0002_01</td>\n",
       "      <td>Earth</td>\n",
       "      <td>False</td>\n",
       "      <td>0</td>\n",
       "      <td>TRAPPIST-1e</td>\n",
       "      <td>24.0</td>\n",
       "      <td>False</td>\n",
       "      <td>109.0</td>\n",
       "      <td>9.0</td>\n",
       "      <td>25.0</td>\n",
       "      <td>549.0</td>\n",
       "      <td>44.0</td>\n",
       "      <td>Juanna Vines</td>\n",
       "      <td>True</td>\n",
       "      <td>2</td>\n",
       "      <td>1</td>\n",
       "      <td>F</td>\n",
       "      <td>S</td>\n",
       "    </tr>\n",
       "    <tr>\n",
       "      <th>2</th>\n",
       "      <td>0003_01</td>\n",
       "      <td>Europa</td>\n",
       "      <td>False</td>\n",
       "      <td>0</td>\n",
       "      <td>TRAPPIST-1e</td>\n",
       "      <td>58.0</td>\n",
       "      <td>True</td>\n",
       "      <td>43.0</td>\n",
       "      <td>3576.0</td>\n",
       "      <td>0.0</td>\n",
       "      <td>6715.0</td>\n",
       "      <td>49.0</td>\n",
       "      <td>Altark Susent</td>\n",
       "      <td>False</td>\n",
       "      <td>3</td>\n",
       "      <td>2</td>\n",
       "      <td>A</td>\n",
       "      <td>S</td>\n",
       "    </tr>\n",
       "    <tr>\n",
       "      <th>3</th>\n",
       "      <td>0003_02</td>\n",
       "      <td>Europa</td>\n",
       "      <td>False</td>\n",
       "      <td>0</td>\n",
       "      <td>TRAPPIST-1e</td>\n",
       "      <td>33.0</td>\n",
       "      <td>False</td>\n",
       "      <td>0.0</td>\n",
       "      <td>1283.0</td>\n",
       "      <td>371.0</td>\n",
       "      <td>3329.0</td>\n",
       "      <td>193.0</td>\n",
       "      <td>Solam Susent</td>\n",
       "      <td>False</td>\n",
       "      <td>3</td>\n",
       "      <td>2</td>\n",
       "      <td>A</td>\n",
       "      <td>S</td>\n",
       "    </tr>\n",
       "    <tr>\n",
       "      <th>4</th>\n",
       "      <td>0004_01</td>\n",
       "      <td>Earth</td>\n",
       "      <td>False</td>\n",
       "      <td>1</td>\n",
       "      <td>TRAPPIST-1e</td>\n",
       "      <td>16.0</td>\n",
       "      <td>False</td>\n",
       "      <td>303.0</td>\n",
       "      <td>70.0</td>\n",
       "      <td>151.0</td>\n",
       "      <td>565.0</td>\n",
       "      <td>2.0</td>\n",
       "      <td>Willy Santantines</td>\n",
       "      <td>True</td>\n",
       "      <td>4</td>\n",
       "      <td>1</td>\n",
       "      <td>F</td>\n",
       "      <td>S</td>\n",
       "    </tr>\n",
       "  </tbody>\n",
       "</table>\n",
       "</div>"
      ],
      "text/plain": [
       "  PassengerId HomePlanet  CryoSleep Cabin  Destination   Age    VIP  \\\n",
       "0     0001_01     Europa      False     0  TRAPPIST-1e  39.0  False   \n",
       "1     0002_01      Earth      False     0  TRAPPIST-1e  24.0  False   \n",
       "2     0003_01     Europa      False     0  TRAPPIST-1e  58.0   True   \n",
       "3     0003_02     Europa      False     0  TRAPPIST-1e  33.0  False   \n",
       "4     0004_01      Earth      False     1  TRAPPIST-1e  16.0  False   \n",
       "\n",
       "   RoomService  FoodCourt  ShoppingMall     Spa  VRDeck               Name  \\\n",
       "0          0.0        0.0           0.0     0.0     0.0    Maham Ofracculy   \n",
       "1        109.0        9.0          25.0   549.0    44.0       Juanna Vines   \n",
       "2         43.0     3576.0           0.0  6715.0    49.0      Altark Susent   \n",
       "3          0.0     1283.0         371.0  3329.0   193.0       Solam Susent   \n",
       "4        303.0       70.0         151.0   565.0     2.0  Willy Santantines   \n",
       "\n",
       "   Transported  PassengerGroup  PartySize Deck PortStarboard  \n",
       "0        False               1          1    B             P  \n",
       "1         True               2          1    F             S  \n",
       "2        False               3          2    A             S  \n",
       "3        False               3          2    A             S  \n",
       "4         True               4          1    F             S  "
      ]
     },
     "execution_count": 58,
     "metadata": {},
     "output_type": "execute_result"
    }
   ],
   "source": [
    "# Load Data\n",
    "data = pd.read_csv('./data/clean_train.csv')\n",
    "data.head()"
   ]
  },
  {
   "cell_type": "markdown",
   "id": "ed44a473",
   "metadata": {},
   "source": [
    "## Logistic Regression"
   ]
  },
  {
   "cell_type": "markdown",
   "id": "46925ed3",
   "metadata": {},
   "source": [
    "Logistic Regression is a simple classification algorithm that provides a lot of information as well as a good baseline for model prediction performance based on a given dataset."
   ]
  },
  {
   "cell_type": "markdown",
   "id": "47e97bfd",
   "metadata": {},
   "source": [
    "### Data Preparation"
   ]
  },
  {
   "cell_type": "markdown",
   "id": "e39f0e4d-1ae7-40b0-92db-882a9f32e520",
   "metadata": {},
   "source": [
    "Logistic Regression is susceptible to scaling effects and skewed distributions, so some of the columns will need to be transformed prior to modelling."
   ]
  },
  {
   "cell_type": "code",
   "execution_count": 59,
   "id": "51a95b07-1a81-4eac-a77b-0516e91f7c87",
   "metadata": {
    "tags": []
   },
   "outputs": [],
   "source": [
    "# Function to log transform numeric data columns\n",
    "def log_transform(col):\n",
    "    return np.log(col+1)\n",
    "\n",
    "# Function to scale numeric data columns\n",
    "def scale_column(col):\n",
    "    return (col - col.min()) / (col.max() - col.min())"
   ]
  },
  {
   "cell_type": "code",
   "execution_count": 63,
   "id": "ca9b4fe7-2c3e-4b95-b793-8cf6ddb3036d",
   "metadata": {
    "tags": []
   },
   "outputs": [
    {
     "data": {
      "text/html": [
       "<div>\n",
       "<style scoped>\n",
       "    .dataframe tbody tr th:only-of-type {\n",
       "        vertical-align: middle;\n",
       "    }\n",
       "\n",
       "    .dataframe tbody tr th {\n",
       "        vertical-align: top;\n",
       "    }\n",
       "\n",
       "    .dataframe thead th {\n",
       "        text-align: right;\n",
       "    }\n",
       "</style>\n",
       "<table border=\"1\" class=\"dataframe\">\n",
       "  <thead>\n",
       "    <tr style=\"text-align: right;\">\n",
       "      <th></th>\n",
       "      <th>PassengerId</th>\n",
       "      <th>HomePlanet</th>\n",
       "      <th>CryoSleep</th>\n",
       "      <th>Cabin</th>\n",
       "      <th>Destination</th>\n",
       "      <th>Age</th>\n",
       "      <th>VIP</th>\n",
       "      <th>RoomService</th>\n",
       "      <th>FoodCourt</th>\n",
       "      <th>ShoppingMall</th>\n",
       "      <th>...</th>\n",
       "      <th>PartySize</th>\n",
       "      <th>Deck</th>\n",
       "      <th>PortStarboard</th>\n",
       "      <th>log_scaled_RoomService</th>\n",
       "      <th>log_scaled_FoodCourt</th>\n",
       "      <th>log_scaled_ShoppingMall</th>\n",
       "      <th>log_scaled_Spa</th>\n",
       "      <th>log_scaled_VRDeck</th>\n",
       "      <th>scaled_Age</th>\n",
       "      <th>scaled_PartySize</th>\n",
       "    </tr>\n",
       "  </thead>\n",
       "  <tbody>\n",
       "    <tr>\n",
       "      <th>0</th>\n",
       "      <td>0001_01</td>\n",
       "      <td>Europa</td>\n",
       "      <td>False</td>\n",
       "      <td>0</td>\n",
       "      <td>TRAPPIST-1e</td>\n",
       "      <td>39.0</td>\n",
       "      <td>False</td>\n",
       "      <td>0.0</td>\n",
       "      <td>0.0</td>\n",
       "      <td>0.0</td>\n",
       "      <td>...</td>\n",
       "      <td>1</td>\n",
       "      <td>B</td>\n",
       "      <td>P</td>\n",
       "      <td>0.000000</td>\n",
       "      <td>0.000000</td>\n",
       "      <td>0.000000</td>\n",
       "      <td>0.000000</td>\n",
       "      <td>0.000000</td>\n",
       "      <td>0.493671</td>\n",
       "      <td>0.000000</td>\n",
       "    </tr>\n",
       "    <tr>\n",
       "      <th>1</th>\n",
       "      <td>0002_01</td>\n",
       "      <td>Earth</td>\n",
       "      <td>False</td>\n",
       "      <td>0</td>\n",
       "      <td>TRAPPIST-1e</td>\n",
       "      <td>24.0</td>\n",
       "      <td>False</td>\n",
       "      <td>109.0</td>\n",
       "      <td>9.0</td>\n",
       "      <td>25.0</td>\n",
       "      <td>...</td>\n",
       "      <td>1</td>\n",
       "      <td>F</td>\n",
       "      <td>S</td>\n",
       "      <td>0.491170</td>\n",
       "      <td>0.223493</td>\n",
       "      <td>0.323723</td>\n",
       "      <td>0.629907</td>\n",
       "      <td>0.377219</td>\n",
       "      <td>0.303797</td>\n",
       "      <td>0.000000</td>\n",
       "    </tr>\n",
       "    <tr>\n",
       "      <th>2</th>\n",
       "      <td>0003_01</td>\n",
       "      <td>Europa</td>\n",
       "      <td>False</td>\n",
       "      <td>0</td>\n",
       "      <td>TRAPPIST-1e</td>\n",
       "      <td>58.0</td>\n",
       "      <td>True</td>\n",
       "      <td>43.0</td>\n",
       "      <td>3576.0</td>\n",
       "      <td>0.0</td>\n",
       "      <td>...</td>\n",
       "      <td>2</td>\n",
       "      <td>A</td>\n",
       "      <td>S</td>\n",
       "      <td>0.395423</td>\n",
       "      <td>0.794185</td>\n",
       "      <td>0.000000</td>\n",
       "      <td>0.879710</td>\n",
       "      <td>0.387660</td>\n",
       "      <td>0.734177</td>\n",
       "      <td>0.142857</td>\n",
       "    </tr>\n",
       "    <tr>\n",
       "      <th>3</th>\n",
       "      <td>0003_02</td>\n",
       "      <td>Europa</td>\n",
       "      <td>False</td>\n",
       "      <td>0</td>\n",
       "      <td>TRAPPIST-1e</td>\n",
       "      <td>33.0</td>\n",
       "      <td>False</td>\n",
       "      <td>0.0</td>\n",
       "      <td>1283.0</td>\n",
       "      <td>371.0</td>\n",
       "      <td>...</td>\n",
       "      <td>2</td>\n",
       "      <td>A</td>\n",
       "      <td>S</td>\n",
       "      <td>0.000000</td>\n",
       "      <td>0.694741</td>\n",
       "      <td>0.588099</td>\n",
       "      <td>0.809679</td>\n",
       "      <td>0.522016</td>\n",
       "      <td>0.417722</td>\n",
       "      <td>0.142857</td>\n",
       "    </tr>\n",
       "    <tr>\n",
       "      <th>4</th>\n",
       "      <td>0004_01</td>\n",
       "      <td>Earth</td>\n",
       "      <td>False</td>\n",
       "      <td>1</td>\n",
       "      <td>TRAPPIST-1e</td>\n",
       "      <td>16.0</td>\n",
       "      <td>False</td>\n",
       "      <td>303.0</td>\n",
       "      <td>70.0</td>\n",
       "      <td>151.0</td>\n",
       "      <td>...</td>\n",
       "      <td>1</td>\n",
       "      <td>F</td>\n",
       "      <td>S</td>\n",
       "      <td>0.597392</td>\n",
       "      <td>0.413743</td>\n",
       "      <td>0.499171</td>\n",
       "      <td>0.632770</td>\n",
       "      <td>0.108866</td>\n",
       "      <td>0.202532</td>\n",
       "      <td>0.000000</td>\n",
       "    </tr>\n",
       "  </tbody>\n",
       "</table>\n",
       "<p>5 rows × 25 columns</p>\n",
       "</div>"
      ],
      "text/plain": [
       "  PassengerId HomePlanet  CryoSleep Cabin  Destination   Age    VIP  \\\n",
       "0     0001_01     Europa      False     0  TRAPPIST-1e  39.0  False   \n",
       "1     0002_01      Earth      False     0  TRAPPIST-1e  24.0  False   \n",
       "2     0003_01     Europa      False     0  TRAPPIST-1e  58.0   True   \n",
       "3     0003_02     Europa      False     0  TRAPPIST-1e  33.0  False   \n",
       "4     0004_01      Earth      False     1  TRAPPIST-1e  16.0  False   \n",
       "\n",
       "   RoomService  FoodCourt  ShoppingMall  ...  PartySize  Deck PortStarboard  \\\n",
       "0          0.0        0.0           0.0  ...          1     B             P   \n",
       "1        109.0        9.0          25.0  ...          1     F             S   \n",
       "2         43.0     3576.0           0.0  ...          2     A             S   \n",
       "3          0.0     1283.0         371.0  ...          2     A             S   \n",
       "4        303.0       70.0         151.0  ...          1     F             S   \n",
       "\n",
       "   log_scaled_RoomService  log_scaled_FoodCourt  log_scaled_ShoppingMall  \\\n",
       "0                0.000000              0.000000                 0.000000   \n",
       "1                0.491170              0.223493                 0.323723   \n",
       "2                0.395423              0.794185                 0.000000   \n",
       "3                0.000000              0.694741                 0.588099   \n",
       "4                0.597392              0.413743                 0.499171   \n",
       "\n",
       "  log_scaled_Spa log_scaled_VRDeck  scaled_Age  scaled_PartySize  \n",
       "0       0.000000          0.000000    0.493671          0.000000  \n",
       "1       0.629907          0.377219    0.303797          0.000000  \n",
       "2       0.879710          0.387660    0.734177          0.142857  \n",
       "3       0.809679          0.522016    0.417722          0.142857  \n",
       "4       0.632770          0.108866    0.202532          0.000000  \n",
       "\n",
       "[5 rows x 25 columns]"
      ]
     },
     "execution_count": 63,
     "metadata": {},
     "output_type": "execute_result"
    }
   ],
   "source": [
    "data['log_scaled_RoomService'] = scale_column(log_transform(data['RoomService']))\n",
    "data['log_scaled_FoodCourt'] = scale_column(log_transform(data['FoodCourt']))\n",
    "data['log_scaled_ShoppingMall'] = scale_column(log_transform(data['ShoppingMall']))\n",
    "data['log_scaled_Spa'] = scale_column(log_transform(data['Spa']))\n",
    "data['log_scaled_VRDeck'] = scale_column(log_transform(data['VRDeck']))\n",
    "data['scaled_Age'] = scale_column(data['Age'])\n",
    "data['scaled_PartySize'] = scale_column(data['PartySize'])\n",
    "\n",
    "data.head()"
   ]
  },
  {
   "cell_type": "markdown",
   "id": "b814cf23",
   "metadata": {},
   "source": [
    "Logistic Regression can only handle numeric variables, so categorical variables will need to be converted to one-hot encoded variables."
   ]
  },
  {
   "cell_type": "code",
   "execution_count": 64,
   "id": "dbf97657",
   "metadata": {
    "tags": []
   },
   "outputs": [],
   "source": [
    "#Seperate target from features\n",
    "features = data.loc[:, data.columns != 'Transported']\n",
    "target = data.loc[:,['Transported']]\n",
    "\n",
    "# Remove unwanted columns\n",
    "data_cleaned = features.drop(features.loc[:,['PassengerId','Cabin','Name','PassengerGroup','RoomService','FoodCourt','ShoppingMall','Spa','VRDeck','Age','PartySize']], axis=1)\n",
    "\n",
    "one_hot_encoded_data = pd.get_dummies(data_cleaned, columns = ['HomePlanet','Destination','Deck','PortStarboard'])"
   ]
  },
  {
   "cell_type": "code",
   "execution_count": 65,
   "id": "5ba2d4ae",
   "metadata": {
    "tags": []
   },
   "outputs": [],
   "source": [
    "#Split data into Test and Train sets\n",
    "X_train, X_test, y_train, y_test = train_test_split(one_hot_encoded_data, target, random_state=1234, train_size = .75)"
   ]
  },
  {
   "cell_type": "code",
   "execution_count": 66,
   "id": "8258999f",
   "metadata": {
    "tags": []
   },
   "outputs": [
    {
     "name": "stderr",
     "output_type": "stream",
     "text": [
      "/opt/conda/lib/python3.10/site-packages/sklearn/utils/validation.py:985: DataConversionWarning: A column-vector y was passed when a 1d array was expected. Please change the shape of y to (n_samples, ), for example using ravel().\n",
      "  y = column_or_1d(y, warn=True)\n"
     ]
    }
   ],
   "source": [
    "model = LogisticRegression(solver='liblinear', random_state=0).fit(X_train, y_train)"
   ]
  },
  {
   "cell_type": "code",
   "execution_count": 67,
   "id": "ba0f176d",
   "metadata": {
    "tags": []
   },
   "outputs": [],
   "source": [
    "y_prob = model.predict_proba(X_test)\n",
    "y_pred = pd.DataFrame(y_prob > .5)\n",
    "\n",
    "predictors = X_train.columns.values"
   ]
  },
  {
   "cell_type": "code",
   "execution_count": 68,
   "id": "8907e31b",
   "metadata": {
    "tags": []
   },
   "outputs": [
    {
     "data": {
      "text/plain": [
       "array([[837, 259],\n",
       "       [234, 844]])"
      ]
     },
     "execution_count": 68,
     "metadata": {},
     "output_type": "execute_result"
    }
   ],
   "source": [
    "confusion_matrix(y_test, model.predict(X_test))"
   ]
  },
  {
   "cell_type": "code",
   "execution_count": 69,
   "id": "717c1620",
   "metadata": {
    "tags": []
   },
   "outputs": [
    {
     "name": "stdout",
     "output_type": "stream",
     "text": [
      "Accuracy =  0.7732290708371665\n",
      "F-Score =  0.7739569005043558\n",
      "Precision =  0.7651858567543064\n",
      "Recall =  0.7829313543599258\n",
      "Kappa =  0.5465134089241634\n"
     ]
    }
   ],
   "source": [
    "# Calculate Accuracy Score on Validation Set\n",
    "acc = accuracy_score(y_test, y_pred[1])\n",
    "# Calculate F-score\n",
    "f1 = f1_score(y_test, y_pred[1])\n",
    "# Calculate Precision\n",
    "prec = precision_score(y_test, y_pred[1])\n",
    "# Calculate Recall\n",
    "rec = recall_score(y_test, y_pred[1])\n",
    "# Calculate Cohen's Kappa\n",
    "kappa = cohen_kappa_score(y_test, y_pred[1])\n",
    "\n",
    "# Print Scores\n",
    "print('Accuracy = ',acc)\n",
    "print('F-Score = ',f1)\n",
    "print('Precision = ', prec)\n",
    "print('Recall = ', rec)\n",
    "print('Kappa = ',kappa)"
   ]
  },
  {
   "cell_type": "code",
   "execution_count": 70,
   "id": "1e32fdbb",
   "metadata": {
    "tags": []
   },
   "outputs": [],
   "source": [
    "auc_score = roc_auc_score(y_test.iloc[:,0], y_prob[:,1])"
   ]
  },
  {
   "cell_type": "code",
   "execution_count": 71,
   "id": "abc627e3",
   "metadata": {
    "tags": []
   },
   "outputs": [
    {
     "name": "stdout",
     "output_type": "stream",
     "text": [
      "CryoSleep\t1.110547402969763\n",
      "VIP\t-0.24667971491275248\n",
      "log_scaled_RoomService\t-2.051431692081815\n",
      "log_scaled_FoodCourt\t1.0310427429885078\n",
      "log_scaled_ShoppingMall\t0.7855762411111806\n",
      "log_scaled_Spa\t-2.5586935353449274\n",
      "log_scaled_VRDeck\t-2.525975930746231\n",
      "scaled_Age\t-0.5404430521540561\n",
      "scaled_PartySize\t-0.006717556809748837\n",
      "HomePlanet_Earth\t-0.32525359209647603\n",
      "HomePlanet_Europa\t1.0735096351559796\n",
      "HomePlanet_Mars\t-0.03711224208374172\n",
      "HomePlanet_unknown\t-0.2908670643989598\n",
      "Destination_55 Cancri e\t0.2349442659244462\n",
      "Destination_PSO J318.5-22\t-0.07875011801947547\n",
      "Destination_TRAPPIST-1e\t-0.09368634290817261\n",
      "Destination_unknown\t0.3577689315795522\n",
      "Deck_A\t-0.25358861030718516\n",
      "Deck_B\t0.2142713462301406\n",
      "Deck_C\t0.676341714887663\n",
      "Deck_D\t0.16428620242506672\n",
      "Deck_E\t-0.2561032835317423\n",
      "Deck_F\t0.4156212185509038\n",
      "Deck_G\t-0.28677696382413753\n",
      "Deck_T\t-0.24012829537516156\n",
      "Deck_unknown\t-0.013646592478259728\n",
      "PortStarboard_P\t-0.0789525422699454\n",
      "PortStarboard_S\t0.5128758713252913\n",
      "PortStarboard_unknown\t-0.013646592478259728\n",
      "Intercept =  [0.42027674]\n"
     ]
    }
   ],
   "source": [
    "coef = model.coef_\n",
    "\n",
    "for p,c in zip(predictors,list(coef[0])):\n",
    "    print(p + '\\t' + str(c))\n",
    "    \n",
    "print('Intercept = ', model.intercept_)"
   ]
  },
  {
   "cell_type": "code",
   "execution_count": 72,
   "id": "02acf371",
   "metadata": {
    "tags": []
   },
   "outputs": [],
   "source": [
    "# Function to plot ROC Curve\n",
    "def plot_roc_curve(true_y, y_prob):\n",
    "    \"\"\"\n",
    "    plots the roc curve based of the probabilities\n",
    "    \"\"\"\n",
    "\n",
    "    fpr, tpr, thresholds = roc_curve(true_y, y_prob)\n",
    "    plt.plot(fpr, tpr)\n",
    "    plt.xlabel('False Positive Rate')\n",
    "    plt.ylabel('True Positive Rate')\n",
    "    \n",
    "def abline(slope, intercept):\n",
    "    \"\"\"Plot a line from slope and intercept\"\"\"\n",
    "    axes = plt.gca()\n",
    "    x_vals = np.array(axes.get_xlim())\n",
    "    y_vals = intercept + slope * x_vals\n",
    "    plt.plot(x_vals, y_vals, '--')\n",
    "\n",
    "def my_range(start, end, how_many):\n",
    "    incr = float(end - start)/(how_many - 1)\n",
    "    return [start + i*incr for i in range(how_many-1)] + [end]"
   ]
  },
  {
   "cell_type": "code",
   "execution_count": 91,
   "id": "ecaa9bfb",
   "metadata": {
    "tags": []
   },
   "outputs": [
    {
     "data": {
      "image/png": "[encoded data removed]",
      "text/plain": [
       "<Figure size 640x480 with 1 Axes>"
      ]
     },
     "metadata": {},
     "output_type": "display_data"
    },
    {
     "data": {
      "text/plain": [
       "<Figure size 640x480 with 0 Axes>"
      ]
     },
     "metadata": {},
     "output_type": "display_data"
    }
   ],
   "source": [
    "plot_roc_curve(y_test.iloc[:,0], y_prob[:,1])\n",
    "abline(1,0)\n",
    "plt.text(0.6,0.25,('AUC = ' + str(round(auc_score,4))))\n",
    "plt.show()\n",
    "plt.savefig('logit_roc_auc.jpg')"
   ]
  },
  {
   "cell_type": "code",
   "execution_count": 74,
   "id": "8706a2f6",
   "metadata": {
    "tags": []
   },
   "outputs": [],
   "source": [
    "auc_df = pd.DataFrame(columns=['threshold','AUC'])\n",
    "c = 0\n",
    "for i in my_range(0,1,101):\n",
    "    y_pred = y_prob > i\n",
    "    prob_auc_score = roc_auc_score(y_test.iloc[:,0],y_pred[:,1])\n",
    "    auc_df.loc[c] = [i,prob_auc_score]\n",
    "    c += 1"
   ]
  },
  {
   "cell_type": "code",
   "execution_count": 88,
   "id": "2d3fc9e8",
   "metadata": {
    "tags": []
   },
   "outputs": [
    {
     "data": {
      "image/png": "[encoded data removed]",
      "text/plain": [
       "<Figure size 640x480 with 1 Axes>"
      ]
     },
     "metadata": {},
     "output_type": "display_data"
    }
   ],
   "source": [
    "max_auc = auc_df.loc[auc_df['AUC'] == auc_df['AUC'].max(),'threshold']\n",
    "\n",
    "plt.plot(auc_df.threshold, auc_df.AUC)\n",
    "plt.xlabel('Classification Threshold')\n",
    "plt.ylabel('AUC')\n",
    "plt.axvline(max_auc.values[0])\n",
    "plt.text((max_auc.values[0])+0.01,0.6,('Threshold = '+ str(round(max_auc.values[0], 2))),rotation=90)\n",
    "\n",
    "plt.show()"
   ]
  },
  {
   "cell_type": "code",
   "execution_count": 85,
   "id": "40379064-b05e-4358-a71b-884e42139bf7",
   "metadata": {
    "tags": []
   },
   "outputs": [
    {
     "data": {
      "text/plain": [
       "0.47000000000000003"
      ]
     },
     "execution_count": 85,
     "metadata": {},
     "output_type": "execute_result"
    }
   ],
   "source": [
    "max_auc.values[0]"
   ]
  },
  {
   "cell_type": "code",
   "execution_count": 76,
   "id": "e42be285-2c1a-4268-9158-88b8de1c4e80",
   "metadata": {},
   "outputs": [],
   "source": [
    "# Reevaluate with new threshold\n",
    "y_pred = pd.DataFrame(y_prob > .47)"
   ]
  },
  {
   "cell_type": "code",
   "execution_count": 77,
   "id": "2c15e7ea-df2d-453c-927f-692d44e1c401",
   "metadata": {
    "tags": []
   },
   "outputs": [
    {
     "data": {
      "text/plain": [
       "array([[819, 277],\n",
       "       [210, 868]])"
      ]
     },
     "execution_count": 77,
     "metadata": {},
     "output_type": "execute_result"
    }
   ],
   "source": [
    "confusion_matrix(y_test, y_pred[1])"
   ]
  },
  {
   "cell_type": "code",
   "execution_count": 78,
   "id": "a3105677-8c45-44df-b683-e3bdc054f25e",
   "metadata": {
    "tags": []
   },
   "outputs": [
    {
     "name": "stdout",
     "output_type": "stream",
     "text": [
      "Accuracy =  0.7759889604415824\n",
      "F-Score =  0.7809266756635177\n",
      "Precision =  0.7580786026200873\n",
      "Recall =  0.8051948051948052\n",
      "Kappa =  0.5521757631180679\n"
     ]
    }
   ],
   "source": [
    "# Calculate Accuracy Score on Validation Set\n",
    "acc = accuracy_score(y_test, y_pred[1])\n",
    "# Calculate F-score\n",
    "f1 = f1_score(y_test, y_pred[1])\n",
    "# Calculate Precision\n",
    "prec = precision_score(y_test, y_pred[1])\n",
    "# Calculate Recall\n",
    "rec = recall_score(y_test, y_pred[1])\n",
    "# Calculate Cohen's Kappa\n",
    "kappa = cohen_kappa_score(y_test, y_pred[1])\n",
    "\n",
    "# Print Scores\n",
    "print('Accuracy = ',acc)\n",
    "print('F-Score = ',f1)\n",
    "print('Precision = ', prec)\n",
    "print('Recall = ', rec)\n",
    "print('Kappa = ',kappa)"
   ]
  },
  {
   "cell_type": "code",
   "execution_count": 89,
   "id": "f3208620",
   "metadata": {
    "tags": []
   },
   "outputs": [
    {
     "data": {
      "text/plain": [
       "['./models/logit_liblinear.joblib']"
      ]
     },
     "execution_count": 89,
     "metadata": {},
     "output_type": "execute_result"
    }
   ],
   "source": [
    "# Dump model into file\n",
    "dump(model, './models/logit_liblinear.joblib')"
   ]
  },
  {
   "cell_type": "code",
   "execution_count": null,
   "id": "0634a6a3-3949-4b31-bff7-d38c1dc8c343",
   "metadata": {},
   "outputs": [],
   "source": []
  }
 ],
 "metadata": {
  "availableInstances": [
   {
    "_defaultOrder": 0,
    "_isFastLaunch": true,
    "category": "General purpose",
    "gpuNum": 0,
    "hideHardwareSpecs": false,
    "memoryGiB": 4,
    "name": "ml.t3.medium",
    "vcpuNum": 2
   },
   {
    "_defaultOrder": 1,
    "_isFastLaunch": false,
    "category": "General purpose",
    "gpuNum": 0,
    "hideHardwareSpecs": false,
    "memoryGiB": 8,
    "name": "ml.t3.large",
    "vcpuNum": 2
   },
   {
    "_defaultOrder": 2,
    "_isFastLaunch": false,
    "category": "General purpose",
    "gpuNum": 0,
    "hideHardwareSpecs": false,
    "memoryGiB": 16,
    "name": "ml.t3.xlarge",
    "vcpuNum": 4
   },
   {
    "_defaultOrder": 3,
    "_isFastLaunch": false,
    "category": "General purpose",
    "gpuNum": 0,
    "hideHardwareSpecs": false,
    "memoryGiB": 32,
    "name": "ml.t3.2xlarge",
    "vcpuNum": 8
   },
   {
    "_defaultOrder": 4,
    "_isFastLaunch": true,
    "category": "General purpose",
    "gpuNum": 0,
    "hideHardwareSpecs": false,
    "memoryGiB": 8,
    "name": "ml.m5.large",
    "vcpuNum": 2
   },
   {
    "_defaultOrder": 5,
    "_isFastLaunch": false,
    "category": "General purpose",
    "gpuNum": 0,
    "hideHardwareSpecs": false,
    "memoryGiB": 16,
    "name": "ml.m5.xlarge",
    "vcpuNum": 4
   },
   {
    "_defaultOrder": 6,
    "_isFastLaunch": false,
    "category": "General purpose",
    "gpuNum": 0,
    "hideHardwareSpecs": false,
    "memoryGiB": 32,
    "name": "ml.m5.2xlarge",
    "vcpuNum": 8
   },
   {
    "_defaultOrder": 7,
    "_isFastLaunch": false,
    "category": "General purpose",
    "gpuNum": 0,
    "hideHardwareSpecs": false,
    "memoryGiB": 64,
    "name": "ml.m5.4xlarge",
    "vcpuNum": 16
   },
   {
    "_defaultOrder": 8,
    "_isFastLaunch": false,
    "category": "General purpose",
    "gpuNum": 0,
    "hideHardwareSpecs": false,
    "memoryGiB": 128,
    "name": "ml.m5.8xlarge",
    "vcpuNum": 32
   },
   {
    "_defaultOrder": 9,
    "_isFastLaunch": false,
    "category": "General purpose",
    "gpuNum": 0,
    "hideHardwareSpecs": false,
    "memoryGiB": 192,
    "name": "ml.m5.12xlarge",
    "vcpuNum": 48
   },
   {
    "_defaultOrder": 10,
    "_isFastLaunch": false,
    "category": "General purpose",
    "gpuNum": 0,
    "hideHardwareSpecs": false,
    "memoryGiB": 256,
    "name": "ml.m5.16xlarge",
    "vcpuNum": 64
   },
   {
    "_defaultOrder": 11,
    "_isFastLaunch": false,
    "category": "General purpose",
    "gpuNum": 0,
    "hideHardwareSpecs": false,
    "memoryGiB": 384,
    "name": "ml.m5.24xlarge",
    "vcpuNum": 96
   },
   {
    "_defaultOrder": 12,
    "_isFastLaunch": false,
    "category": "General purpose",
    "gpuNum": 0,
    "hideHardwareSpecs": false,
    "memoryGiB": 8,
    "name": "ml.m5d.large",
    "vcpuNum": 2
   },
   {
    "_defaultOrder": 13,
    "_isFastLaunch": false,
    "category": "General purpose",
    "gpuNum": 0,
    "hideHardwareSpecs": false,
    "memoryGiB": 16,
    "name": "ml.m5d.xlarge",
    "vcpuNum": 4
   },
   {
    "_defaultOrder": 14,
    "_isFastLaunch": false,
    "category": "General purpose",
    "gpuNum": 0,
    "hideHardwareSpecs": false,
    "memoryGiB": 32,
    "name": "ml.m5d.2xlarge",
    "vcpuNum": 8
   },
   {
    "_defaultOrder": 15,
    "_isFastLaunch": false,
    "category": "General purpose",
    "gpuNum": 0,
    "hideHardwareSpecs": false,
    "memoryGiB": 64,
    "name": "ml.m5d.4xlarge",
    "vcpuNum": 16
   },
   {
    "_defaultOrder": 16,
    "_isFastLaunch": false,
    "category": "General purpose",
    "gpuNum": 0,
    "hideHardwareSpecs": false,
    "memoryGiB": 128,
    "name": "ml.m5d.8xlarge",
    "vcpuNum": 32
   },
   {
    "_defaultOrder": 17,
    "_isFastLaunch": false,
    "category": "General purpose",
    "gpuNum": 0,
    "hideHardwareSpecs": false,
    "memoryGiB": 192,
    "name": "ml.m5d.12xlarge",
    "vcpuNum": 48
   },
   {
    "_defaultOrder": 18,
    "_isFastLaunch": false,
    "category": "General purpose",
    "gpuNum": 0,
    "hideHardwareSpecs": false,
    "memoryGiB": 256,
    "name": "ml.m5d.16xlarge",
    "vcpuNum": 64
   },
   {
    "_defaultOrder": 19,
    "_isFastLaunch": false,
    "category": "General purpose",
    "gpuNum": 0,
    "hideHardwareSpecs": false,
    "memoryGiB": 384,
    "name": "ml.m5d.24xlarge",
    "vcpuNum": 96
   },
   {
    "_defaultOrder": 20,
    "_isFastLaunch": false,
    "category": "General purpose",
    "gpuNum": 0,
    "hideHardwareSpecs": true,
    "memoryGiB": 0,
    "name": "ml.geospatial.interactive",
    "supportedImageNames": [
     "sagemaker-geospatial-v1-0"
    ],
    "vcpuNum": 0
   },
   {
    "_defaultOrder": 21,
    "_isFastLaunch": true,
    "category": "Compute optimized",
    "gpuNum": 0,
    "hideHardwareSpecs": false,
    "memoryGiB": 4,
    "name": "ml.c5.large",
    "vcpuNum": 2
   },
   {
    "_defaultOrder": 22,
    "_isFastLaunch": false,
    "category": "Compute optimized",
    "gpuNum": 0,
    "hideHardwareSpecs": false,
    "memoryGiB": 8,
    "name": "ml.c5.xlarge",
    "vcpuNum": 4
   },
   {
    "_defaultOrder": 23,
    "_isFastLaunch": false,
    "category": "Compute optimized",
    "gpuNum": 0,
    "hideHardwareSpecs": false,
    "memoryGiB": 16,
    "name": "ml.c5.2xlarge",
    "vcpuNum": 8
   },
   {
    "_defaultOrder": 24,
    "_isFastLaunch": false,
    "category": "Compute optimized",
    "gpuNum": 0,
    "hideHardwareSpecs": false,
    "memoryGiB": 32,
    "name": "ml.c5.4xlarge",
    "vcpuNum": 16
   },
   {
    "_defaultOrder": 25,
    "_isFastLaunch": false,
    "category": "Compute optimized",
    "gpuNum": 0,
    "hideHardwareSpecs": false,
    "memoryGiB": 72,
    "name": "ml.c5.9xlarge",
    "vcpuNum": 36
   },
   {
    "_defaultOrder": 26,
    "_isFastLaunch": false,
    "category": "Compute optimized",
    "gpuNum": 0,
    "hideHardwareSpecs": false,
    "memoryGiB": 96,
    "name": "ml.c5.12xlarge",
    "vcpuNum": 48
   },
   {
    "_defaultOrder": 27,
    "_isFastLaunch": false,
    "category": "Compute optimized",
    "gpuNum": 0,
    "hideHardwareSpecs": false,
    "memoryGiB": 144,
    "name": "ml.c5.18xlarge",
    "vcpuNum": 72
   },
   {
    "_defaultOrder": 28,
    "_isFastLaunch": false,
    "category": "Compute optimized",
    "gpuNum": 0,
    "hideHardwareSpecs": false,
    "memoryGiB": 192,
    "name": "ml.c5.24xlarge",
    "vcpuNum": 96
   },
   {
    "_defaultOrder": 29,
    "_isFastLaunch": true,
    "category": "Accelerated computing",
    "gpuNum": 1,
    "hideHardwareSpecs": false,
    "memoryGiB": 16,
    "name": "ml.g4dn.xlarge",
    "vcpuNum": 4
   },
   {
    "_defaultOrder": 30,
    "_isFastLaunch": false,
    "category": "Accelerated computing",
    "gpuNum": 1,
    "hideHardwareSpecs": false,
    "memoryGiB": 32,
    "name": "ml.g4dn.2xlarge",
    "vcpuNum": 8
   },
   {
    "_defaultOrder": 31,
    "_isFastLaunch": false,
    "category": "Accelerated computing",
    "gpuNum": 1,
    "hideHardwareSpecs": false,
    "memoryGiB": 64,
    "name": "ml.g4dn.4xlarge",
    "vcpuNum": 16
   },
   {
    "_defaultOrder": 32,
    "_isFastLaunch": false,
    "category": "Accelerated computing",
    "gpuNum": 1,
    "hideHardwareSpecs": false,
    "memoryGiB": 128,
    "name": "ml.g4dn.8xlarge",
    "vcpuNum": 32
   },
   {
    "_defaultOrder": 33,
    "_isFastLaunch": false,
    "category": "Accelerated computing",
    "gpuNum": 4,
    "hideHardwareSpecs": false,
    "memoryGiB": 192,
    "name": "ml.g4dn.12xlarge",
    "vcpuNum": 48
   },
   {
    "_defaultOrder": 34,
    "_isFastLaunch": false,
    "category": "Accelerated computing",
    "gpuNum": 1,
    "hideHardwareSpecs": false,
    "memoryGiB": 256,
    "name": "ml.g4dn.16xlarge",
    "vcpuNum": 64
   },
   {
    "_defaultOrder": 35,
    "_isFastLaunch": false,
    "category": "Accelerated computing",
    "gpuNum": 1,
    "hideHardwareSpecs": false,
    "memoryGiB": 61,
    "name": "ml.p3.2xlarge",
    "vcpuNum": 8
   },
   {
    "_defaultOrder": 36,
    "_isFastLaunch": false,
    "category": "Accelerated computing",
    "gpuNum": 4,
    "hideHardwareSpecs": false,
    "memoryGiB": 244,
    "name": "ml.p3.8xlarge",
    "vcpuNum": 32
   },
   {
    "_defaultOrder": 37,
    "_isFastLaunch": false,
    "category": "Accelerated computing",
    "gpuNum": 8,
    "hideHardwareSpecs": false,
    "memoryGiB": 488,
    "name": "ml.p3.16xlarge",
    "vcpuNum": 64
   },
   {
    "_defaultOrder": 38,
    "_isFastLaunch": false,
    "category": "Accelerated computing",
    "gpuNum": 8,
    "hideHardwareSpecs": false,
    "memoryGiB": 768,
    "name": "ml.p3dn.24xlarge",
    "vcpuNum": 96
   },
   {
    "_defaultOrder": 39,
    "_isFastLaunch": false,
    "category": "Memory Optimized",
    "gpuNum": 0,
    "hideHardwareSpecs": false,
    "memoryGiB": 16,
    "name": "ml.r5.large",
    "vcpuNum": 2
   },
   {
    "_defaultOrder": 40,
    "_isFastLaunch": false,
    "category": "Memory Optimized",
    "gpuNum": 0,
    "hideHardwareSpecs": false,
    "memoryGiB": 32,
    "name": "ml.r5.xlarge",
    "vcpuNum": 4
   },
   {
    "_defaultOrder": 41,
    "_isFastLaunch": false,
    "category": "Memory Optimized",
    "gpuNum": 0,
    "hideHardwareSpecs": false,
    "memoryGiB": 64,
    "name": "ml.r5.2xlarge",
    "vcpuNum": 8
   },
   {
    "_defaultOrder": 42,
    "_isFastLaunch": false,
    "category": "Memory Optimized",
    "gpuNum": 0,
    "hideHardwareSpecs": false,
    "memoryGiB": 128,
    "name": "ml.r5.4xlarge",
    "vcpuNum": 16
   },
   {
    "_defaultOrder": 43,
    "_isFastLaunch": false,
    "category": "Memory Optimized",
    "gpuNum": 0,
    "hideHardwareSpecs": false,
    "memoryGiB": 256,
    "name": "ml.r5.8xlarge",
    "vcpuNum": 32
   },
   {
    "_defaultOrder": 44,
    "_isFastLaunch": false,
    "category": "Memory Optimized",
    "gpuNum": 0,
    "hideHardwareSpecs": false,
    "memoryGiB": 384,
    "name": "ml.r5.12xlarge",
    "vcpuNum": 48
   },
   {
    "_defaultOrder": 45,
    "_isFastLaunch": false,
    "category": "Memory Optimized",
    "gpuNum": 0,
    "hideHardwareSpecs": false,
    "memoryGiB": 512,
    "name": "ml.r5.16xlarge",
    "vcpuNum": 64
   },
   {
    "_defaultOrder": 46,
    "_isFastLaunch": false,
    "category": "Memory Optimized",
    "gpuNum": 0,
    "hideHardwareSpecs": false,
    "memoryGiB": 768,
    "name": "ml.r5.24xlarge",
    "vcpuNum": 96
   },
   {
    "_defaultOrder": 47,
    "_isFastLaunch": false,
    "category": "Accelerated computing",
    "gpuNum": 1,
    "hideHardwareSpecs": false,
    "memoryGiB": 16,
    "name": "ml.g5.xlarge",
    "vcpuNum": 4
   },
   {
    "_defaultOrder": 48,
    "_isFastLaunch": false,
    "category": "Accelerated computing",
    "gpuNum": 1,
    "hideHardwareSpecs": false,
    "memoryGiB": 32,
    "name": "ml.g5.2xlarge",
    "vcpuNum": 8
   },
   {
    "_defaultOrder": 49,
    "_isFastLaunch": false,
    "category": "Accelerated computing",
    "gpuNum": 1,
    "hideHardwareSpecs": false,
    "memoryGiB": 64,
    "name": "ml.g5.4xlarge",
    "vcpuNum": 16
   },
   {
    "_defaultOrder": 50,
    "_isFastLaunch": false,
    "category": "Accelerated computing",
    "gpuNum": 1,
    "hideHardwareSpecs": false,
    "memoryGiB": 128,
    "name": "ml.g5.8xlarge",
    "vcpuNum": 32
   },
   {
    "_defaultOrder": 51,
    "_isFastLaunch": false,
    "category": "Accelerated computing",
    "gpuNum": 1,
    "hideHardwareSpecs": false,
    "memoryGiB": 256,
    "name": "ml.g5.16xlarge",
    "vcpuNum": 64
   },
   {
    "_defaultOrder": 52,
    "_isFastLaunch": false,
    "category": "Accelerated computing",
    "gpuNum": 4,
    "hideHardwareSpecs": false,
    "memoryGiB": 192,
    "name": "ml.g5.12xlarge",
    "vcpuNum": 48
   },
   {
    "_defaultOrder": 53,
    "_isFastLaunch": false,
    "category": "Accelerated computing",
    "gpuNum": 4,
    "hideHardwareSpecs": false,
    "memoryGiB": 384,
    "name": "ml.g5.24xlarge",
    "vcpuNum": 96
   },
   {
    "_defaultOrder": 54,
    "_isFastLaunch": false,
    "category": "Accelerated computing",
    "gpuNum": 8,
    "hideHardwareSpecs": false,
    "memoryGiB": 768,
    "name": "ml.g5.48xlarge",
    "vcpuNum": 192
   },
   {
    "_defaultOrder": 55,
    "_isFastLaunch": false,
    "category": "Accelerated computing",
    "gpuNum": 8,
    "hideHardwareSpecs": false,
    "memoryGiB": 1152,
    "name": "ml.p4d.24xlarge",
    "vcpuNum": 96
   },
   {
    "_defaultOrder": 56,
    "_isFastLaunch": false,
    "category": "Accelerated computing",
    "gpuNum": 8,
    "hideHardwareSpecs": false,
    "memoryGiB": 1152,
    "name": "ml.p4de.24xlarge",
    "vcpuNum": 96
   }
  ],
  "instance_type": "ml.t3.medium",
  "kernelspec": {
   "display_name": "Python 3 (Data Science 3.0)",
   "language": "python",
   "name": "python3__SAGEMAKER_INTERNAL__arn:aws:sagemaker:us-west-2:236514542706:image/sagemaker-data-science-310-v1"
  },
  "language_info": {
   "codemirror_mode": {
    "name": "ipython",
    "version": 3
   },
   "file_extension": ".py",
   "mimetype": "text/x-python",
   "name": "python",
   "nbconvert_exporter": "python",
   "pygments_lexer": "ipython3",
   "version": "3.10.6"
  }
 },
 "nbformat": 4,
 "nbformat_minor": 5
}
